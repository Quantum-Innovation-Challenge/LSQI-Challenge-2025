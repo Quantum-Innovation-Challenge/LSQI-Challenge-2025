{
 "cells": [
  {
   "cell_type": "code",
   "execution_count": 3,
   "id": "2ae1da1c",
   "metadata": {},
   "outputs": [],
   "source": [
    "import pandas as pd\n",
    "from loaders import load_estdata"
   ]
  },
  {
   "cell_type": "code",
   "execution_count": 4,
   "id": "b6e0a005",
   "metadata": {},
   "outputs": [],
   "source": [
    "# =========================================================\n",
    "# Daily -> Weekly dataset  (0h, 72h, 168h obs )\n",
    "# =========================================================\n",
    "def convert_to_weekly_dataset(df_all: pd.DataFrame) -> pd.DataFrame:\n",
    "    \"\"\"\n",
    "    Convert daily dosing dataset into weekly dosing dataset.\n",
    "    Rule:\n",
    "      - 7 day cumulative dose is accumulated on week_start(0h)\n",
    "      - Observation is kept only at 0h, 72h, 168h in each week\n",
    "    \n",
    "    Args:\n",
    "        df_all: original EstData DataFrame (daily dosing)\n",
    "\n",
    "    Returns:\n",
    "        df_weekly: Weekly dosing converted DataFrame\n",
    "    \"\"\"\n",
    "    df = df_all.copy()\n",
    "    df_weekly = []\n",
    "\n",
    "    for sid, g in df.groupby(\"ID\"):\n",
    "        g = g.sort_values(\"TIME\").reset_index(drop=True)\n",
    "\n",
    "        g_dose = g[g[\"EVID\"] == 1].copy()\n",
    "        g_obs = g[g[\"EVID\"] == 0].copy()\n",
    "\n",
    "        g_dose[\"WEEK\"] = (g_dose[\"TIME\"] // 168).astype(int)\n",
    "        g_obs[\"WEEK\"] = (g_obs[\"TIME\"] // 168).astype(int)\n",
    "\n",
    "        weekly_doses = []\n",
    "        for w, grp in g_dose.groupby(\"WEEK\"):\n",
    "            week_start = w * 168\n",
    "            total_amt = grp[\"AMT\"].sum()\n",
    "\n",
    "            first_row = grp.iloc[0].copy()\n",
    "            first_row[\"TIME\"] = week_start\n",
    "            first_row[\"AMT\"] = total_amt\n",
    "            weekly_doses.append(first_row)\n",
    "\n",
    "        g_dose_weekly = pd.DataFrame(weekly_doses)\n",
    "\n",
    "        weekly_obs = []\n",
    "        for w, grp in g_obs.groupby(\"WEEK\"):\n",
    "            week_start = w * 168\n",
    "            target_times = [week_start, week_start + 72, week_start + 168]\n",
    "            for t in target_times:\n",
    "                obs_nearest = grp.iloc[(grp[\"TIME\"] - t).abs().argsort()[:1]].copy()\n",
    "                obs_nearest[\"TIME\"] = t  \n",
    "                weekly_obs.append(obs_nearest)\n",
    "\n",
    "        g_obs_weekly = pd.concat(weekly_obs, ignore_index=True)\n",
    "\n",
    "        g_weekly = pd.concat([g_dose_weekly, g_obs_weekly], ignore_index=True)\n",
    "        g_weekly = g_weekly.sort_values(\"TIME\").reset_index(drop=True)\n",
    "\n",
    "        g_weekly[\"WEEKLY\"] = 1\n",
    "        df_weekly.append(g_weekly)\n",
    "\n",
    "    df_weekly = pd.concat(df_weekly, ignore_index=True)\n",
    "    return df_weekly"
   ]
  },
  {
   "cell_type": "code",
   "execution_count": 5,
   "id": "2b9ecae2",
   "metadata": {},
   "outputs": [
    {
     "name": "stdout",
     "output_type": "stream",
     "text": [
      "Original: (2820, 11) → Weekly: (1260, 13)\n"
     ]
    }
   ],
   "source": [
    "df_all, df_obs, df_dose = load_estdata(\"EstData.csv\")\n",
    "\n",
    "df_weekly = convert_to_weekly_dataset(df_all)\n",
    "\n",
    "print(\"Original:\", df_all.shape, \"→ Weekly:\", df_weekly.shape)\n",
    "\n",
    "df_weekly.to_csv(\"./EstData_weekly.csv\", index=False)\n"
   ]
  },
  {
   "cell_type": "code",
   "execution_count": 6,
   "id": "f49d75ee",
   "metadata": {},
   "outputs": [],
   "source": [
    "# =========================================================\n",
    "# Daily + Weekly Combined Dataset \n",
    "# =========================================================\n",
    "def build_combined_dataset(daily_path: str = \"EstData.csv\",\n",
    "                           weekly_out: str = \"EstData_weekly.csv\",\n",
    "                           combined_out: str = \"EstData_combined.csv\") -> tuple[pd.DataFrame, pd.DataFrame, pd.DataFrame]:\n",
    "    \"\"\"\n",
    "    Daily EstData.csv -> convert to Weekly -> Combined dataset \n",
    "    - daily_path: original EstData.csv path\n",
    "    - weekly_out: converted Weekly dataset path\n",
    "    - combined_out: Daily + Weekly combined dataset path\n",
    "    \"\"\"\n",
    "    # Load daily dataset\n",
    "    df_all, df_obs, df_dose = load_estdata(daily_path)\n",
    "\n",
    "    df_weekly = convert_to_weekly_dataset(df_all)\n",
    "    df_weekly.to_csv(weekly_out, index=False)\n",
    "    print(f\" Weekly dataset saved: {weekly_out} ({df_weekly.shape})\")\n",
    "\n",
    "    df_all = df_all.copy()\n",
    "    df_all[\"WEEKLY\"] = 0  # Daily flag\n",
    "    df_weekly[\"WEEKLY\"] = 1  # Weekly flag\n",
    "\n",
    "    # Combined dataset\n",
    "    df_combined = pd.concat([df_all, df_weekly], ignore_index=True)\n",
    "    df_combined = df_combined.sort_values([\"ID\", \"TIME\"]).reset_index(drop=True)\n",
    "    df_combined.to_csv(combined_out, index=False)\n",
    "    print(f\" Combined dataset saved: {combined_out} ({df_combined.shape})\")\n",
    "\n",
    "    return df_all, df_weekly, df_combined\n"
   ]
  },
  {
   "cell_type": "code",
   "execution_count": 7,
   "id": "10969887",
   "metadata": {},
   "outputs": [
    {
     "name": "stdout",
     "output_type": "stream",
     "text": [
      " Weekly dataset saved: ./EstData_weekly.csv ((1260, 13))\n",
      " Combined dataset saved: ./EstData_combined.csv ((4080, 13))\n"
     ]
    }
   ],
   "source": [
    "df_daily, df_weekly, df_combined = build_combined_dataset(\n",
    "    daily_path=\"./EstData.csv\",\n",
    "    weekly_out=\"./EstData_weekly.csv\",\n",
    "    combined_out=\"./EstData_combined.csv\"\n",
    ")"
   ]
  },
  {
   "cell_type": "code",
   "execution_count": null,
   "id": "255f47fb",
   "metadata": {},
   "outputs": [],
   "source": []
  },
  {
   "cell_type": "code",
   "execution_count": null,
   "id": "4213e7a5",
   "metadata": {},
   "outputs": [],
   "source": []
  }
 ],
 "metadata": {
  "kernelspec": {
   "display_name": "base",
   "language": "python",
   "name": "python3"
  },
  "language_info": {
   "codemirror_mode": {
    "name": "ipython",
    "version": 3
   },
   "file_extension": ".py",
   "mimetype": "text/x-python",
   "name": "python",
   "nbconvert_exporter": "python",
   "pygments_lexer": "ipython3",
   "version": "3.10.13"
  }
 },
 "nbformat": 4,
 "nbformat_minor": 5
}
